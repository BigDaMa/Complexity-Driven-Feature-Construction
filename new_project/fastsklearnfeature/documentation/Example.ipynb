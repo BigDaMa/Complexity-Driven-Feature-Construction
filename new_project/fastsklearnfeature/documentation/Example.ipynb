{
 "cells": [
  {
   "cell_type": "code",
   "execution_count": 5,
   "metadata": {},
   "outputs": [
    {
     "name": "stdout",
     "output_type": "stream",
     "text": [
      "     Recency  Frequency  Monetary  Time\n",
      "0          2         50     12500    98\n",
      "1          0         13      3250    28\n",
      "2          1         16      4000    35\n",
      "3          2         20      5000    45\n",
      "4          1         24      6000    77\n",
      "5          4          4      1000     4\n",
      "6          2          7      1750    14\n",
      "7          1         12      3000    35\n",
      "8          2          9      2250    22\n",
      "9          5         46     11500    98\n",
      "10         4         23      5750    58\n",
      "11         0          3       750     4\n",
      "12         2         10      2500    28\n",
      "13         1         13      3250    47\n",
      "14         2          6      1500    15\n",
      "15         2          5      1250    11\n",
      "16         2         14      3500    48\n",
      "17         2         15      3750    49\n",
      "18         2          6      1500    15\n",
      "19         2          3       750     4\n",
      "20         2          3       750     4\n",
      "21         4         11      2750    28\n",
      "22         2          6      1500    16\n",
      "23         2          6      1500    16\n",
      "24         9          9      2250    16\n",
      "25         4         14      3500    40\n",
      "26         4          6      1500    14\n",
      "27         4         12      3000    34\n",
      "28         4          5      1250    11\n",
      "29         4          8      2000    21\n",
      "..       ...        ...       ...   ...\n",
      "718       21          3       750    35\n",
      "719       23          8      2000    69\n",
      "720       21          3       750    38\n",
      "721       23          3       750    35\n",
      "722       21          3       750    40\n",
      "723       23          2       500    28\n",
      "724       21          1       250    21\n",
      "725       21          1       250    21\n",
      "726       25          6      1500    50\n",
      "727       21          1       250    21\n",
      "728       21          1       250    21\n",
      "729       23          3       750    39\n",
      "730       21          2       500    33\n",
      "731       14          3       750    79\n",
      "732       23          1       250    23\n",
      "733       23          1       250    23\n",
      "734       23          1       250    23\n",
      "735       23          1       250    23\n",
      "736       23          1       250    23\n",
      "737       23          1       250    23\n",
      "738       23          1       250    23\n",
      "739       23          4      1000    52\n",
      "740       23          1       250    23\n",
      "741       23          7      1750    88\n",
      "742       16          3       750    86\n",
      "743       23          2       500    38\n",
      "744       21          2       500    52\n",
      "745       23          3       750    62\n",
      "746       39          1       250    39\n",
      "747       72          1       250    72\n",
      "\n",
      "[748 rows x 4 columns]\n",
      "training:448\n",
      "test:300\n",
      "baseline: 0.0\n",
      "----------- Evaluation of 4 features -----------\n",
      "----------- Evaluation Finished -----------\n",
      "From 4 candidates, we dropped 0\n",
      "Frequency\n"
     ]
    },
    {
     "ename": "PermissionError",
     "evalue": "[Errno 13] Permission denied: '/tmp/data_raw.p'",
     "traceback": [
      "\u001b[0;31m---------------------------------------------------------------------------\u001b[0m",
      "\u001b[0;31mPermissionError\u001b[0m                           Traceback (most recent call last)",
      "\u001b[0;32m<ipython-input-5-e7a25d15e53c>\u001b[0m in \u001b[0;36m<module>\u001b[0;34m\u001b[0m\n\u001b[1;32m      7\u001b[0m \u001b[0mselector\u001b[0m \u001b[0;34m=\u001b[0m \u001b[0mSimpleFeatureConstruction\u001b[0m\u001b[0;34m(\u001b[0m\u001b[0mdataset\u001b[0m\u001b[0;34m,\u001b[0m \u001b[0mepsilon\u001b[0m\u001b[0;34m=\u001b[0m\u001b[0;36m0.0\u001b[0m\u001b[0;34m,\u001b[0m \u001b[0mc_max\u001b[0m\u001b[0;34m=\u001b[0m\u001b[0;36m1\u001b[0m\u001b[0;34m)\u001b[0m\u001b[0;34m\u001b[0m\u001b[0;34m\u001b[0m\u001b[0m\n\u001b[1;32m      8\u001b[0m \u001b[0;34m\u001b[0m\u001b[0m\n\u001b[0;32m----> 9\u001b[0;31m \u001b[0mselector\u001b[0m\u001b[0;34m.\u001b[0m\u001b[0mrun\u001b[0m\u001b[0;34m(\u001b[0m\u001b[0;34m)\u001b[0m\u001b[0;34m\u001b[0m\u001b[0;34m\u001b[0m\u001b[0m\n\u001b[0m",
      "\u001b[0;32m~/FastFeatures/new_project/venv/lib/python3.6/site-packages/fastfeatures-0.0.1-py3.6.egg/fastsklearnfeature/feature_selection/SimpleFeatureConstruction.py\u001b[0m in \u001b[0;36mrun\u001b[0;34m(self)\u001b[0m\n\u001b[1;32m    368\u001b[0m             \u001b[0mprint\u001b[0m\u001b[0;34m(\u001b[0m\u001b[0mmax_feature\u001b[0m\u001b[0;34m)\u001b[0m\u001b[0;34m\u001b[0m\u001b[0;34m\u001b[0m\u001b[0m\n\u001b[1;32m    369\u001b[0m \u001b[0;34m\u001b[0m\u001b[0m\n\u001b[0;32m--> 370\u001b[0;31m             \u001b[0mpickle\u001b[0m\u001b[0;34m.\u001b[0m\u001b[0mdump\u001b[0m\u001b[0;34m(\u001b[0m\u001b[0mcost_2_raw_features\u001b[0m\u001b[0;34m,\u001b[0m \u001b[0mopen\u001b[0m\u001b[0;34m(\u001b[0m\u001b[0mConfig\u001b[0m\u001b[0;34m.\u001b[0m\u001b[0mget\u001b[0m\u001b[0;34m(\u001b[0m\u001b[0;34m\"tmp.folder\"\u001b[0m\u001b[0;34m)\u001b[0m \u001b[0;34m+\u001b[0m \u001b[0;34m\"/data_raw.p\"\u001b[0m\u001b[0;34m,\u001b[0m \u001b[0;34m\"wb\"\u001b[0m\u001b[0;34m)\u001b[0m\u001b[0;34m)\u001b[0m\u001b[0;34m\u001b[0m\u001b[0;34m\u001b[0m\u001b[0m\n\u001b[0m\u001b[1;32m    371\u001b[0m             \u001b[0mpickle\u001b[0m\u001b[0;34m.\u001b[0m\u001b[0mdump\u001b[0m\u001b[0;34m(\u001b[0m\u001b[0mcost_2_unary_transformed\u001b[0m\u001b[0;34m,\u001b[0m \u001b[0mopen\u001b[0m\u001b[0;34m(\u001b[0m\u001b[0mConfig\u001b[0m\u001b[0;34m.\u001b[0m\u001b[0mget\u001b[0m\u001b[0;34m(\u001b[0m\u001b[0;34m\"tmp.folder\"\u001b[0m\u001b[0;34m)\u001b[0m \u001b[0;34m+\u001b[0m \u001b[0;34m\"/data_unary.p\"\u001b[0m\u001b[0;34m,\u001b[0m \u001b[0;34m\"wb\"\u001b[0m\u001b[0;34m)\u001b[0m\u001b[0;34m)\u001b[0m\u001b[0;34m\u001b[0m\u001b[0;34m\u001b[0m\u001b[0m\n\u001b[1;32m    372\u001b[0m             \u001b[0mpickle\u001b[0m\u001b[0;34m.\u001b[0m\u001b[0mdump\u001b[0m\u001b[0;34m(\u001b[0m\u001b[0mcost_2_binary_transformed\u001b[0m\u001b[0;34m,\u001b[0m \u001b[0mopen\u001b[0m\u001b[0;34m(\u001b[0m\u001b[0mConfig\u001b[0m\u001b[0;34m.\u001b[0m\u001b[0mget\u001b[0m\u001b[0;34m(\u001b[0m\u001b[0;34m\"tmp.folder\"\u001b[0m\u001b[0;34m)\u001b[0m \u001b[0;34m+\u001b[0m \u001b[0;34m\"/data_binary.p\"\u001b[0m\u001b[0;34m,\u001b[0m \u001b[0;34m\"wb\"\u001b[0m\u001b[0;34m)\u001b[0m\u001b[0;34m)\u001b[0m\u001b[0;34m\u001b[0m\u001b[0;34m\u001b[0m\u001b[0m\n",
      "\u001b[0;31mPermissionError\u001b[0m: [Errno 13] Permission denied: '/tmp/data_raw.p'"
     ],
     "output_type": "error"
    }
   ],
   "source": [
    "from fastsklearnfeature.feature_selection.SimpleFeatureConstruction import SimpleFeatureConstruction\n",
    "import pandas as pd\n",
    "\n",
    "target_attribute_id = 4\n",
    "dataset = ('../configuration/resources/data/transfusion.data', target_attribute_id)\n",
    "\n",
    "selector = SimpleFeatureConstruction(dataset, epsilon=0.0, c_max=1)\n",
    "\n",
    "selector.run()"
   ]
  },
  {
   "cell_type": "code",
   "execution_count": null,
   "metadata": {},
   "outputs": [],
   "source": []
  },
  {
   "cell_type": "code",
   "execution_count": null,
   "metadata": {},
   "outputs": [],
   "source": []
  },
  {
   "cell_type": "code",
   "execution_count": null,
   "metadata": {},
   "outputs": [],
   "source": []
  }
 ],
 "metadata": {
  "kernelspec": {
   "display_name": "Python 3",
   "language": "python",
   "name": "python3"
  },
  "language_info": {
   "codemirror_mode": {
    "name": "ipython",
    "version": 3
   },
   "file_extension": ".py",
   "mimetype": "text/x-python",
   "name": "python",
   "nbconvert_exporter": "python",
   "pygments_lexer": "ipython3",
   "version": "3.6.7"
  }
 },
 "nbformat": 4,
 "nbformat_minor": 2
}
