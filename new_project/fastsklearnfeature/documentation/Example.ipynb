{
 "cells": [
  {
   "cell_type": "code",
   "execution_count": 2,
   "metadata": {},
   "outputs": [
    {
     "name": "stdout",
     "output_type": "stream",
     "text": [
      "training:448\n",
      "test:300\n",
      "----------- Evaluation of 4 representations -----------\n"
     ]
    },
    {
     "name": "stderr",
     "output_type": "stream",
     "text": [
      "100%|██████████| 4/4 [00:00<00:00,  4.38it/s]"
     ]
    },
    {
     "name": "stdout",
     "output_type": "stream",
     "text": [
      "----------- Evaluation Finished -----------\n",
      "Of 4 candidate representations, 4 did satisfy the epsilon threshold.\n",
      "\n",
      "Best representation found for complexity = 1: Frequency\n",
      "mean cross-validation score: 0.66, score on test: 0.70\n",
      "\n",
      "----------- Evaluation of 14 representations -----------\n"
     ]
    },
    {
     "name": "stderr",
     "output_type": "stream",
     "text": [
      "\n",
      "100%|██████████| 14/14 [00:01<00:00,  7.60it/s]\n"
     ]
    },
    {
     "name": "stdout",
     "output_type": "stream",
     "text": [
      "----------- Evaluation Finished -----------\n",
      "Of 14 candidate representations, 2 did satisfy the epsilon threshold.\n",
      "\n",
      "Best representation found for complexity = 2: Frequency\n",
      "mean cross-validation score: 0.66, score on test: 0.70\n",
      "\n",
      "----------- Evaluation of 99 representations -----------\n"
     ]
    },
    {
     "name": "stderr",
     "output_type": "stream",
     "text": [
      "100%|██████████| 99/99 [00:10<00:00,  9.27it/s]"
     ]
    },
    {
     "name": "stdout",
     "output_type": "stream",
     "text": [
      "----------- Evaluation Finished -----------\n",
      "Of 99 candidate representations, 18 did satisfy the epsilon threshold.\n",
      "\n",
      "Best representation found for complexity = 3: true_divide(Recency,Monetary)\n",
      "mean cross-validation score: 0.77, score on test: 0.76\n",
      "\n"
     ]
    },
    {
     "name": "stderr",
     "output_type": "stream",
     "text": [
      "\n"
     ]
    }
   ],
   "source": [
    "from fastsklearnfeature.feature_selection.ComplexityDrivenFeatureConstruction import ComplexityDrivenFeatureConstruction\n",
    "import pandas as pd\n",
    "\n",
    "target_attribute_id = 4\n",
    "dataset = ('../configuration/resources/data/transfusion.data', target_attribute_id)\n",
    "\n",
    "selector = ComplexityDrivenFeatureConstruction(dataset, epsilon=0.0, c_max=3)\n",
    "\n",
    "selector.run()"
   ]
  },
  {
   "cell_type": "code",
   "execution_count": null,
   "metadata": {
    "collapsed": true
   },
   "outputs": [],
   "source": []
  },
  {
   "cell_type": "code",
   "execution_count": null,
   "metadata": {
    "collapsed": true
   },
   "outputs": [],
   "source": []
  },
  {
   "cell_type": "code",
   "execution_count": null,
   "metadata": {
    "collapsed": true
   },
   "outputs": [],
   "source": []
  }
 ],
 "metadata": {
  "kernelspec": {
   "display_name": "Python 3",
   "language": "python",
   "name": "python3"
  },
  "language_info": {
   "codemirror_mode": {
    "name": "ipython",
    "version": 3
   },
   "file_extension": ".py",
   "mimetype": "text/x-python",
   "name": "python",
   "nbconvert_exporter": "python",
   "pygments_lexer": "ipython3",
   "version": "3.7.3"
  }
 },
 "nbformat": 4,
 "nbformat_minor": 2
}
