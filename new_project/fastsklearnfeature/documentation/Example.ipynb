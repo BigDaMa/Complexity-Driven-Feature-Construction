{
 "cells": [
  {
   "cell_type": "code",
   "execution_count": 2,
   "metadata": {},
   "outputs": [
    {
     "name": "stdout",
     "output_type": "stream",
     "text": [
      "training:448\n",
      "test:300\n",
      "----------- Evaluation of 4 representations -----------\n",
      "----------- Evaluation Finished -----------\n",
      "Of 4 candidate representations, all satisfied the epsilon threshold.\n",
      "Best representation found for complexity = 1: Frequency\n",
      "\n",
      "----------- Evaluation of 14 representations -----------\n",
      "----------- Evaluation Finished -----------\n",
      "Of 14 candidate representations, 12 did not satisfy the epsilon threshold.\n",
      "Best representation found for complexity = 2: Frequency\n",
      "\n",
      "----------- Evaluation of 186 representations -----------\n",
      "----------- Evaluation Finished -----------\n",
      "Of 186 candidate representations, 154 did not satisfy the epsilon threshold.\n",
      "Best representation found for complexity = 3: true_divide(Recency,Monetary)\n",
      "\n"
     ]
    }
   ],
   "source": [
    "from fastsklearnfeature.feature_selection.ComplexityDrivenFeatureConstruction import ComplexityDrivenFeatureConstruction\n",
    "import pandas as pd\n",
    "\n",
    "target_attribute_id = 4\n",
    "dataset = ('../configuration/resources/data/transfusion.data', target_attribute_id)\n",
    "\n",
    "selector = ComplexityDrivenFeatureConstruction(dataset, epsilon=0.0, c_max=3)\n",
    "\n",
    "selector.run()"
   ]
  },
  {
   "cell_type": "code",
   "execution_count": null,
   "metadata": {
    "collapsed": true
   },
   "outputs": [],
   "source": []
  },
  {
   "cell_type": "code",
   "execution_count": null,
   "metadata": {
    "collapsed": true
   },
   "outputs": [],
   "source": []
  },
  {
   "cell_type": "code",
   "execution_count": null,
   "metadata": {
    "collapsed": true
   },
   "outputs": [],
   "source": []
  }
 ],
 "metadata": {
  "kernelspec": {
   "display_name": "Python 3",
   "language": "python",
   "name": "python3"
  },
  "language_info": {
   "codemirror_mode": {
    "name": "ipython",
    "version": 3
   },
   "file_extension": ".py",
   "mimetype": "text/x-python",
   "name": "python",
   "nbconvert_exporter": "python",
   "pygments_lexer": "ipython3",
   "version": "3.6.8"
  }
 },
 "nbformat": 4,
 "nbformat_minor": 2
}
